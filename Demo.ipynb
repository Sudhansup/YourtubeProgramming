{
 "cells": [
  {
   "cell_type": "code",
   "execution_count": 1,
   "metadata": {},
   "outputs": [
    {
     "name": "stdout",
     "output_type": "stream",
     "text": [
      "Hello World!\n"
     ]
    }
   ],
   "source": [
    "print('Hello World!')"
   ]
  },
  {
   "cell_type": "code",
   "execution_count": 15,
   "metadata": {},
   "outputs": [
    {
     "name": "stdout",
     "output_type": "stream",
     "text": [
      "hello there\n"
     ]
    }
   ],
   "source": [
    "#Comma at the end will  not print new line\n",
    "print('hello', 'there')"
   ]
  },
  {
   "cell_type": "code",
   "execution_count": 19,
   "metadata": {},
   "outputs": [
    {
     "name": "stdout",
     "output_type": "stream",
     "text": [
      "10\n",
      "<class 'int'>\n"
     ]
    }
   ],
   "source": [
    "#Variables\n",
    "x= 10\n",
    "print(x)\n",
    "print(type(x))"
   ]
  },
  {
   "cell_type": "code",
   "execution_count": 10,
   "metadata": {},
   "outputs": [
    {
     "data": {
      "text/plain": [
       "'Hello 3'"
      ]
     },
     "execution_count": 10,
     "metadata": {},
     "output_type": "execute_result"
    }
   ],
   "source": [
    "#Operators\n",
    "2 == 3\n",
    "2+True\n",
    "'Hello ' + str(3)"
   ]
  },
  {
   "cell_type": "code",
   "execution_count": 45,
   "metadata": {},
   "outputs": [
    {
     "name": "stdout",
     "output_type": "stream",
     "text": [
      "a=10\n",
      "a=11\n",
      "a=10\n",
      "a=10 b= 11\n",
      "a=10 c = 9\n",
      "a=10 d = 20\n",
      "a=10 e = 5.0\n",
      "a=10 f = 1\n",
      "a=10 g = 100\n"
     ]
    }
   ],
   "source": [
    "#Arithmatic Operators\n",
    "a = 10\n",
    "print(\"a={}\".format(a))\n",
    "a+= 1\n",
    "print(\"a={}\".format(a))\n",
    "a-=1\n",
    "print(\"a={}\".format(a))\n",
    "b= a+1\n",
    "print(\"a={} b= {}\".format(a, b))\n",
    "c= a-1\n",
    "print(\"a={} c = {}\".format(a, c))\n",
    "d= a*2\n",
    "print(\"a={} d = {}\".format(a, d))\n",
    "e=a/2\n",
    "print(\"a={} e = {}\".format(a, e))\n",
    "f= a%3\n",
    "print(\"a={} f = {}\".format(a, f))\n",
    "g= a**2\n",
    "print(\"a={} g = {}\".format(a, g))"
   ]
  },
  {
   "cell_type": "code",
   "execution_count": 36,
   "metadata": {},
   "outputs": [
    {
     "name": "stdout",
     "output_type": "stream",
     "text": [
      "Hello World\n",
      "Hello\n",
      "Class\n",
      "9\n"
     ]
    }
   ],
   "source": [
    "#String Operations\n",
    "#String Concatenation using +\n",
    "\n",
    "print(\"Hello \" + 'World')\n",
    "\n",
    "#Substirng\n",
    "print(\"Hello World\"[0:5])\n",
    "print(\"Hello Class\"[6:])\n",
    "print(\"123456789\"[-1])"
   ]
  },
  {
   "cell_type": "code",
   "execution_count": 24,
   "metadata": {},
   "outputs": [
    {
     "name": "stdout",
     "output_type": "stream",
     "text": [
      "4.5 4.5\n",
      "4.5 7.5\n"
     ]
    }
   ],
   "source": [
    "#Numbers are immutable\n",
    "x = 4.5\n",
    "y = x\n",
    "\n",
    "print(x,y)\n",
    "\n",
    "y += 3\n",
    "print(x,y)"
   ]
  },
  {
   "cell_type": "code",
   "execution_count": 28,
   "metadata": {},
   "outputs": [
    {
     "name": "stdout",
     "output_type": "stream",
     "text": [
      "I am a string\n",
      "So am I\n",
      " I am a big\n",
      "string with new lines\n",
      "\n"
     ]
    }
   ],
   "source": [
    "#String Literals\n",
    "print('I am a string')\n",
    "print(\"So am I\")\n",
    "print(\"\"\" I am a big\n",
    "string with new lines\n",
    "\"\"\")"
   ]
  },
  {
   "cell_type": "code",
   "execution_count": 38,
   "metadata": {},
   "outputs": [
    {
     "name": "stdout",
     "output_type": "stream",
     "text": [
      "One, 2, three\n",
      "1, two, 3\n"
     ]
    }
   ],
   "source": [
    "#Formating and Place Holders\n",
    "print(\"One, %d, three\"%2)\n",
    "print(\"%d, two, %s\"%(1,3))"
   ]
  },
  {
   "cell_type": "code",
   "execution_count": 40,
   "metadata": {},
   "outputs": [],
   "source": [
    "#Pass keyword : Syntactic filler, does nothing\n",
    "\n",
    "while 1:\n",
    "    pass\n",
    "    break"
   ]
  },
  {
   "cell_type": "code",
   "execution_count": 47,
   "metadata": {},
   "outputs": [
    {
     "name": "stdout",
     "output_type": "stream",
     "text": [
      "1\n",
      "True\n",
      "False\n",
      "False\n"
     ]
    }
   ],
   "source": [
    "#logical operators\n",
    "\n",
    "a = True\n",
    "b = 1\n",
    "c = False\n",
    "\n",
    "\n",
    "#logical And\n",
    "print(a and b)\n",
    "\n",
    "#Logical or\n",
    "print(a or b)\n",
    "\n",
    "#logical negation\n",
    "print(not a)\n",
    "\n",
    "#Compound\n",
    "print(a and not(b or c))"
   ]
  },
  {
   "cell_type": "code",
   "execution_count": 51,
   "metadata": {},
   "outputs": [
    {
     "data": {
      "text/plain": [
       "False"
      ]
     },
     "execution_count": 51,
     "metadata": {},
     "output_type": "execute_result"
    }
   ],
   "source": [
    "#Arithmatic comparision\n",
    "\n",
    "a > b\n",
    "a >= b\n",
    "a < b\n",
    "a <= b\n",
    "\n",
    "#Equlaity/Difference\n",
    "a == b\n",
    "a != b"
   ]
  },
  {
   "cell_type": "code",
   "execution_count": 12,
   "metadata": {},
   "outputs": [],
   "source": [
    "#Function\n",
    "def foo(bar):\n",
    "    return bar"
   ]
  },
  {
   "cell_type": "code",
   "execution_count": 13,
   "metadata": {},
   "outputs": [
    {
     "name": "stdout",
     "output_type": "stream",
     "text": [
      "10\n"
     ]
    }
   ],
   "source": [
    "print(foo(10))"
   ]
  },
  {
   "cell_type": "code",
   "execution_count": 14,
   "metadata": {},
   "outputs": [
    {
     "name": "stdout",
     "output_type": "stream",
     "text": [
      "hello\n"
     ]
    }
   ],
   "source": [
    "print(foo('hello'))"
   ]
  },
  {
   "cell_type": "code",
   "execution_count": 54,
   "metadata": {},
   "outputs": [
    {
     "name": "stdout",
     "output_type": "stream",
     "text": [
      "<__main__.User object at 0x065EC8E0>\n",
      "<class '__main__.User'>\n"
     ]
    }
   ],
   "source": [
    "#Class declaration\n",
    "class User(object):\n",
    "    pass\n",
    "\n",
    "#Object creation\n",
    "x = User()\n",
    "print(x)\n",
    "print(type(x))"
   ]
  },
  {
   "cell_type": "code",
   "execution_count": 65,
   "metadata": {},
   "outputs": [],
   "source": [
    "#Class declaration\n",
    "#Check Python constructor\n",
    "\n",
    "class User(object):\n",
    "    name = None\n",
    "    is_staff = False    \n",
    "    \n",
    "    def _init_(self, name = 'Anonymous'):\n",
    "        self.name = name\n",
    "        super(User, self)._init_()\n",
    "    def is_authorized(self):\n",
    "        return self.is_staff"
   ]
  },
  {
   "cell_type": "code",
   "execution_count": 67,
   "metadata": {},
   "outputs": [
    {
     "name": "stdout",
     "output_type": "stream",
     "text": [
      "None\n",
      "False\n"
     ]
    }
   ],
   "source": [
    "anonymous = User()\n",
    "print(anonymous.name)\n",
    "print(anonymous.is_authorized())"
   ]
  },
  {
   "cell_type": "code",
   "execution_count": 82,
   "metadata": {},
   "outputs": [
    {
     "data": {
      "text/plain": [
       "'2020-12-21 20:06:52'"
      ]
     },
     "execution_count": 82,
     "metadata": {},
     "output_type": "execute_result"
    }
   ],
   "source": [
    "#Imports to import libraary\n",
    "import datetime\n",
    "\n",
    "datetime.datetime.today().strftime(\"%Y-%m-%d %H:%M:%S\")"
   ]
  },
  {
   "cell_type": "code",
   "execution_count": 86,
   "metadata": {},
   "outputs": [
    {
     "name": "stdout",
     "output_type": "stream",
     "text": [
      "December TwentyTwo 2020\n"
     ]
    }
   ],
   "source": [
    "#Error Handeling\n",
    "import datetime\n",
    "import random\n",
    "\n",
    "#Gets random value from the list\n",
    "day = random.choice(['TwentyTwo', 21])\n",
    "\n",
    "try:\n",
    "    date = 'December ' + day\n",
    "except TypeError:\n",
    "    print('Type Error')\n",
    "    date = datetime.date(2020,12,day)\n",
    "else:\n",
    "    date += ' 2020'\n",
    "finally:\n",
    "    print(date)"
   ]
  },
  {
   "cell_type": "code",
   "execution_count": 100,
   "metadata": {},
   "outputs": [
    {
     "name": "stdout",
     "output_type": "stream",
     "text": [
      "[1, 'hello', (2+3j), (3+4j)]\n",
      "[1, 'hello']\n"
     ]
    }
   ],
   "source": [
    "#Lists\n",
    "x = [1,'hello', 2+3j, 3+4j]\n",
    "print(x)\n",
    "print(x[0:2])"
   ]
  },
  {
   "cell_type": "code",
   "execution_count": 101,
   "metadata": {},
   "outputs": [
    {
     "name": "stdout",
     "output_type": "stream",
     "text": [
      "[1, 'hello', (2+3j), (3+4j)]\n",
      "[1, 'hello', 'Eggs', 'Apple']\n"
     ]
    }
   ],
   "source": [
    "#List methods and List manipulations\n",
    "print(x)\n",
    "x[2] = 'Eggs'\n",
    "x.append('Apple')\n",
    "x.remove(x[3])\n",
    "print(x)"
   ]
  },
  {
   "cell_type": "code",
   "execution_count": 105,
   "metadata": {},
   "outputs": [
    {
     "name": "stdout",
     "output_type": "stream",
     "text": [
      "Contains brother\n",
      "Not contains she\n"
     ]
    }
   ],
   "source": [
    "#String oiperator in, not in\n",
    "\n",
    "if 'Br' in 'Brother' :\n",
    "    print (\"Contains brother\")\n",
    "    \n",
    "if 'she' not in 'Brother' :\n",
    "    print (\"Not contains she\")"
   ]
  },
  {
   "cell_type": "code",
   "execution_count": 114,
   "metadata": {},
   "outputs": [
    {
     "name": "stdout",
     "output_type": "stream",
     "text": [
      "SUDHANSU\n",
      "sudhansu\n",
      "text with leading and trailling space trimmed\n",
      "    text with leading space untrimmed\n"
     ]
    }
   ],
   "source": [
    "print(\"Sudhansu\".upper())\n",
    "print(\"Sudhansu\".lower())\n",
    "print('    text with leading and trailling space trimmed  '.strip())\n",
    "print('    text with leading space untrimmed '.rstrip())"
   ]
  },
  {
   "cell_type": "code",
   "execution_count": 117,
   "metadata": {},
   "outputs": [
    {
     "data": {
      "text/plain": [
       "7"
      ]
     },
     "execution_count": 117,
     "metadata": {},
     "output_type": "execute_result"
    }
   ],
   "source": [
    "#Function within/inside functions\n",
    "def foo(x,y):\n",
    "    def bar(z):\n",
    "        return z*2\n",
    "    return bar(x)+y\n",
    "\n",
    "foo(2,3)"
   ]
  },
  {
   "cell_type": "code",
   "execution_count": 119,
   "metadata": {},
   "outputs": [
    {
     "name": "stdout",
     "output_type": "stream",
     "text": [
      "<function foo.<locals>.bar at 0x067D27C0>\n",
      "5\n"
     ]
    }
   ],
   "source": [
    "#Functions returning functions\n",
    "def foo(x):\n",
    "    def bar(y):\n",
    "        return x+y\n",
    "    return bar\n",
    "\n",
    "\n",
    "#main \n",
    "\n",
    "f = foo(3)\n",
    "print(f)\n",
    "print(f(2))\n"
   ]
  },
  {
   "cell_type": "code",
   "execution_count": 123,
   "metadata": {},
   "outputs": [
    {
     "name": "stdout",
     "output_type": "stream",
     "text": [
      "10\n",
      "5\n"
     ]
    }
   ],
   "source": [
    "#Functions with default parameters\n",
    "def foo(x = 5):\n",
    "    print(x)\n",
    "    \n",
    "foo(10)\n",
    "foo()"
   ]
  },
  {
   "cell_type": "code",
   "execution_count": 126,
   "metadata": {},
   "outputs": [
    {
     "name": "stdout",
     "output_type": "stream",
     "text": [
      "30 50 40\n"
     ]
    }
   ],
   "source": [
    "#Named parameter\n",
    "def foo(a,b,c):\n",
    "    print(a,b,c)\n",
    "    \n",
    "foo(30, c= 40, b = 50)"
   ]
  },
  {
   "cell_type": "code",
   "execution_count": 127,
   "metadata": {},
   "outputs": [],
   "source": [
    "import pandas as pd"
   ]
  },
  {
   "cell_type": "code",
   "execution_count": 1,
   "metadata": {},
   "outputs": [
    {
     "name": "stdout",
     "output_type": "stream",
     "text": [
      "1730406464\n",
      "1730406464\n"
     ]
    }
   ],
   "source": [
    "a = 10\n",
    "print(id(a))\n",
    "b= 10\n",
    "print(id(b))"
   ]
  },
  {
   "cell_type": "code",
   "execution_count": 2,
   "metadata": {},
   "outputs": [
    {
     "name": "stdout",
     "output_type": "stream",
     "text": [
      "1730406464\n",
      "1730406624\n"
     ]
    }
   ],
   "source": [
    "b = 20\n",
    "print(id(a))\n",
    "print(id(b))"
   ]
  },
  {
   "cell_type": "code",
   "execution_count": null,
   "metadata": {},
   "outputs": [],
   "source": []
  }
 ],
 "metadata": {
  "kernelspec": {
   "display_name": "Python 3",
   "language": "python",
   "name": "python3"
  },
  "language_info": {
   "codemirror_mode": {
    "name": "ipython",
    "version": 3
   },
   "file_extension": ".py",
   "mimetype": "text/x-python",
   "name": "python",
   "nbconvert_exporter": "python",
   "pygments_lexer": "ipython3",
   "version": "3.8.1"
  }
 },
 "nbformat": 4,
 "nbformat_minor": 4
}
