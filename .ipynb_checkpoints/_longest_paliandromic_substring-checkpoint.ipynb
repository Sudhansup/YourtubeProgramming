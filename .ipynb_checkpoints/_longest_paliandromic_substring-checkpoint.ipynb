{
 "cells": [
  {
   "cell_type": "code",
   "execution_count": 59,
   "metadata": {},
   "outputs": [],
   "source": [
    "#@get_func_exec_time\n",
    "def longestPalindrome(s):\n",
    "    if (s == s[::-1]):\n",
    "        return s\n",
    "    else:\n",
    "        return max([longestPalindrome(s[1:]), longestPalindrome(s[:-1])], key=len)"
   ]
  },
  {
   "cell_type": "code",
   "execution_count": 61,
   "metadata": {},
   "outputs": [
    {
     "name": "stdout",
     "output_type": "stream",
     "text": [
      "MADAM\n",
      "<function test at 0x0118C2B0> took 0:04:04.236129\n"
     ]
    }
   ],
   "source": [
    "@get_func_exec_time\n",
    "def test():\n",
    "    res = longestPalindrome('BABAMADAMCKJGSKJHFKLSJHFLJSD')\n",
    "    print(res)\n",
    "    \n",
    "test()"
   ]
  },
  {
   "cell_type": "code",
   "execution_count": 50,
   "metadata": {},
   "outputs": [],
   "source": [
    "from datetime import datetime\n",
    "def get_func_exec_time(func):\n",
    "    def inner(*args, **kwargs):\n",
    "        start = datetime.now()\n",
    "        rv = func(*args, **kwargs)\n",
    "        end = datetime.now()\n",
    "        print('{0} took {1}'.format(func, end-start))\n",
    "        return rv\n",
    "    return inner"
   ]
  },
  {
   "cell_type": "code",
   "execution_count": 70,
   "metadata": {},
   "outputs": [],
   "source": [
    "@get_func_exec_time\n",
    "def get_longest_paliandromic_string(s:str):\n",
    "    if s == s[::-1]:\n",
    "        return s\n",
    "    else:\n",
    "        cm = s[0]\n",
    "        l = 1\n",
    "        \n",
    "        for i in range(len(s)):\n",
    "            for j in range(len(s),0, -1):                \n",
    "                w = s[i:j]\n",
    "            \n",
    "                # if w is paliandrome\n",
    "                if w == w[::-1] and len(w) > l:\n",
    "                    cm = w\n",
    "                    l = len(w)\n",
    "        return cm"
   ]
  },
  {
   "cell_type": "code",
   "execution_count": 71,
   "metadata": {},
   "outputs": [
    {
     "name": "stdout",
     "output_type": "stream",
     "text": [
      "<function get_longest_paliandromic_string at 0x0118C340> took 0:00:00\n"
     ]
    },
    {
     "data": {
      "text/plain": [
       "'MADAM'"
      ]
     },
     "execution_count": 71,
     "metadata": {},
     "output_type": "execute_result"
    }
   ],
   "source": [
    "get_longest_paliandromic_string('BABAMADAMCKJGSKJHFKLSJHFLJSD')"
   ]
  },
  {
   "cell_type": "code",
   "execution_count": 62,
   "metadata": {},
   "outputs": [
    {
     "name": "stdout",
     "output_type": "stream",
     "text": [
      "5\n",
      "4\n",
      "3\n",
      "2\n",
      "1\n"
     ]
    }
   ],
   "source": [
    "for j in range(5, 0, -1):\n",
    "    print(j)"
   ]
  },
  {
   "cell_type": "code",
   "execution_count": 76,
   "metadata": {},
   "outputs": [
    {
     "data": {
      "text/plain": [
       "'asdas'"
      ]
     },
     "execution_count": 76,
     "metadata": {},
     "output_type": "execute_result"
    }
   ],
   "source": []
  },
  {
   "cell_type": "code",
   "execution_count": null,
   "metadata": {},
   "outputs": [],
   "source": []
  }
 ],
 "metadata": {
  "kernelspec": {
   "display_name": "Python 3",
   "language": "python",
   "name": "python3"
  },
  "language_info": {
   "codemirror_mode": {
    "name": "ipython",
    "version": 3
   },
   "file_extension": ".py",
   "mimetype": "text/x-python",
   "name": "python",
   "nbconvert_exporter": "python",
   "pygments_lexer": "ipython3",
   "version": "3.8.1"
  }
 },
 "nbformat": 4,
 "nbformat_minor": 4
}
