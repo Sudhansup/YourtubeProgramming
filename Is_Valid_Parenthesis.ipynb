{
 "cells": [
  {
   "cell_type": "code",
   "execution_count": 5,
   "metadata": {},
   "outputs": [],
   "source": [
    "# IsValid Parenthesis\n",
    "#Valid when all the open brackets are closed in the same order\n",
    "#Invalid when all are not closed or  not in specific order\n",
    "#Example : {([])} => valid\n",
    "# \")(\"  ==> Invalid\n",
    "#\"]\" => Invalid\n",
    "#Stack--LIFO\n",
    "\n",
    "def isValidParenthesis(input_data):\n",
    "    stack = []\n",
    "    list_open = ['{', \"[\", \"(\"]\n",
    "    list_closed = ['}', \"]\", \")\"]\n",
    "    \n",
    "    for i in input_data:\n",
    "        if i in list_open:\n",
    "            stack.append(i)\n",
    "        elif i in list_closed and len(stack)>0:\n",
    "            temp = stack.pop()\n",
    "            if i == '}' and temp == '{':\n",
    "                pass\n",
    "            elif i == ']' and temp == '[':\n",
    "                pass\n",
    "            elif i == ')' and temp == '(':\n",
    "                pass\n",
    "            else:\n",
    "                return False\n",
    "        else:\n",
    "            return False\n",
    "    return False if len(stack) > 0 else True              \n",
    "            "
   ]
  },
  {
   "cell_type": "code",
   "execution_count": 6,
   "metadata": {},
   "outputs": [
    {
     "data": {
      "text/plain": [
       "True"
      ]
     },
     "execution_count": 6,
     "metadata": {},
     "output_type": "execute_result"
    }
   ],
   "source": [
    "isValidParenthesis(\"{([])}\")"
   ]
  },
  {
   "cell_type": "code",
   "execution_count": 7,
   "metadata": {},
   "outputs": [
    {
     "data": {
      "text/plain": [
       "False"
      ]
     },
     "execution_count": 7,
     "metadata": {},
     "output_type": "execute_result"
    }
   ],
   "source": [
    "isValidParenthesis(\")(\")"
   ]
  },
  {
   "cell_type": "code",
   "execution_count": 8,
   "metadata": {},
   "outputs": [
    {
     "data": {
      "text/plain": [
       "False"
      ]
     },
     "execution_count": 8,
     "metadata": {},
     "output_type": "execute_result"
    }
   ],
   "source": [
    "isValidParenthesis(\"]\")"
   ]
  },
  {
   "cell_type": "code",
   "execution_count": 9,
   "metadata": {},
   "outputs": [
    {
     "data": {
      "text/plain": [
       "False"
      ]
     },
     "execution_count": 9,
     "metadata": {},
     "output_type": "execute_result"
    }
   ],
   "source": [
    "isValidParenthesis(\"[\")"
   ]
  },
  {
   "cell_type": "code",
   "execution_count": 10,
   "metadata": {},
   "outputs": [
    {
     "data": {
      "text/plain": [
       "True"
      ]
     },
     "execution_count": 10,
     "metadata": {},
     "output_type": "execute_result"
    }
   ],
   "source": [
    "isValidParenthesis(\"[]\")"
   ]
  },
  {
   "cell_type": "code",
   "execution_count": null,
   "metadata": {},
   "outputs": [],
   "source": []
  }
 ],
 "metadata": {
  "kernelspec": {
   "display_name": "Python 3",
   "language": "python",
   "name": "python3"
  },
  "language_info": {
   "codemirror_mode": {
    "name": "ipython",
    "version": 3
   },
   "file_extension": ".py",
   "mimetype": "text/x-python",
   "name": "python",
   "nbconvert_exporter": "python",
   "pygments_lexer": "ipython3",
   "version": "3.8.1"
  }
 },
 "nbformat": 4,
 "nbformat_minor": 4
}
