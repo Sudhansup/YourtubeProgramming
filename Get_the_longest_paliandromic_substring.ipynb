{
 "cells": [
  {
   "cell_type": "code",
   "execution_count": 1,
   "metadata": {},
   "outputs": [],
   "source": [
    "#Paliandromic substring\n",
    "#Input : \"Step on no petS dfkdshfjdsf\"\n",
    "#Output \"Step on no petS\"\n",
    "def get_longest_paliandromic_substring(s:str):\n",
    "     if s == \"\" or s == len(s)*s[0]:\n",
    "            return s\n",
    "     elif s == s[::-1]:\n",
    "        return s\n",
    "     else:\n",
    "        return max([get_longest_paliandromic_substring(s[1:]), get_longest_paliandromic_substring(s[:-1])], key = len)\n",
    "    "
   ]
  },
  {
   "cell_type": "code",
   "execution_count": 24,
   "metadata": {},
   "outputs": [
    {
     "name": "stdout",
     "output_type": "stream",
     "text": [
      "Step on no petS\n",
      "<function test at 0x0104D658> took 0:01:35.664178 to execute\n"
     ]
    }
   ],
   "source": [
    "@func_exec_time\n",
    "def test():\n",
    "    rv = get_longest_paliandromic_substring(\"Step on no petS dfkdshfjdsf\")\n",
    "    print(rv)\n",
    "test()"
   ]
  },
  {
   "cell_type": "code",
   "execution_count": 21,
   "metadata": {},
   "outputs": [],
   "source": [
    "@func_exec_time\n",
    "def get_longest_pallaindrome(s:str):\n",
    "    if s == \"\" or s == len(s)*s[0]:\n",
    "            return s\n",
    "    elif s == s[::-1]:\n",
    "        return s\n",
    "    else:\n",
    "        cm = s[0]\n",
    "        l = 1        \n",
    "        for i in range(len(s)):\n",
    "            for j in range(len(s), 0, -1):                \n",
    "                w = s[i:j]                \n",
    "                #check if w is paliandrome\n",
    "                if w == w[::-1] and len(w) > l:\n",
    "                    cm = w\n",
    "                    l = len(w)                \n",
    "        return cm"
   ]
  },
  {
   "cell_type": "code",
   "execution_count": 25,
   "metadata": {},
   "outputs": [
    {
     "name": "stdout",
     "output_type": "stream",
     "text": [
      "<function get_longest_pallaindrome at 0x0104D460> took 0:00:00.000507 to execute\n"
     ]
    },
    {
     "data": {
      "text/plain": [
       "'Step on no petS'"
      ]
     },
     "execution_count": 25,
     "metadata": {},
     "output_type": "execute_result"
    }
   ],
   "source": [
    "get_longest_pallaindrome(\"Step on no petS dfkdshfjdsf\")"
   ]
  },
  {
   "cell_type": "code",
   "execution_count": 20,
   "metadata": {},
   "outputs": [],
   "source": [
    "from datetime import datetime\n",
    "def func_exec_time(func):\n",
    "    def wraper(*args, **kwargs):\n",
    "        start = datetime.now()\n",
    "        rv = func(*args, **kwargs)\n",
    "        end = datetime.now()\n",
    "        print(\"{0} took {1} to execute\".format(func, end-start))\n",
    "        return rv\n",
    "    return wraper"
   ]
  },
  {
   "cell_type": "code",
   "execution_count": null,
   "metadata": {},
   "outputs": [],
   "source": []
  }
 ],
 "metadata": {
  "kernelspec": {
   "display_name": "Python 3",
   "language": "python",
   "name": "python3"
  },
  "language_info": {
   "codemirror_mode": {
    "name": "ipython",
    "version": 3
   },
   "file_extension": ".py",
   "mimetype": "text/x-python",
   "name": "python",
   "nbconvert_exporter": "python",
   "pygments_lexer": "ipython3",
   "version": "3.8.1"
  }
 },
 "nbformat": 4,
 "nbformat_minor": 4
}
