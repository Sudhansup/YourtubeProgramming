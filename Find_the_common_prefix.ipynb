{
 "cells": [
  {
   "cell_type": "code",
   "execution_count": 10,
   "metadata": {},
   "outputs": [],
   "source": [
    "#Find the common prefix of the given words\n",
    "#Input ['flower', 'flour', 'floor', 'flow']\n",
    "#outPut 'flo'\n",
    "\n",
    "def get_common_prefix(input_list):\n",
    "    prefix = ''\n",
    "    temp_prefix = input_list[0]\n",
    "    for i in temp_prefix:\n",
    "        prefix = prefix+i\n",
    "        for word in input_list[1:]:\n",
    "            if word.startswith(prefix):\n",
    "                pass\n",
    "            else:\n",
    "                prefix = prefix[:-1]\n",
    "                break\n",
    "    return prefix"
   ]
  },
  {
   "cell_type": "code",
   "execution_count": 11,
   "metadata": {},
   "outputs": [
    {
     "data": {
      "text/plain": [
       "'sta'"
      ]
     },
     "execution_count": 11,
     "metadata": {},
     "output_type": "execute_result"
    }
   ],
   "source": [
    "get_common_prefix(['stack', 'staple', 'stamp'])"
   ]
  },
  {
   "cell_type": "code",
   "execution_count": 13,
   "metadata": {},
   "outputs": [
    {
     "data": {
      "text/plain": [
       "['staple', 'stamp']"
      ]
     },
     "execution_count": 13,
     "metadata": {},
     "output_type": "execute_result"
    }
   ],
   "source": [
    "input_list = ['stack', 'staple', 'stamp']\n",
    "input_list[1:]"
   ]
  },
  {
   "cell_type": "code",
   "execution_count": null,
   "metadata": {},
   "outputs": [],
   "source": []
  }
 ],
 "metadata": {
  "kernelspec": {
   "display_name": "Python 3",
   "language": "python",
   "name": "python3"
  },
  "language_info": {
   "codemirror_mode": {
    "name": "ipython",
    "version": 3
   },
   "file_extension": ".py",
   "mimetype": "text/x-python",
   "name": "python",
   "nbconvert_exporter": "python",
   "pygments_lexer": "ipython3",
   "version": "3.8.1"
  }
 },
 "nbformat": 4,
 "nbformat_minor": 4
}
