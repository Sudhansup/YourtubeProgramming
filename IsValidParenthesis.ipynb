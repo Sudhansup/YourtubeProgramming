{
 "cells": [
  {
   "cell_type": "code",
   "execution_count": 28,
   "metadata": {},
   "outputs": [],
   "source": [
    "def IsValidParenthesis(inputdata):\n",
    "    queue = []\n",
    "    for _ in inputdata:\n",
    "        if _ in [\"(\", \"{\", \"[\"]:\n",
    "            queue.append(_)\n",
    "        elif _ in [\")\", \"}\", \"]\"] and len(queue) > 0 :\n",
    "            temp = queue.pop()\n",
    "            if  _ == \")\" and temp == \"(\":\n",
    "                pass\n",
    "            elif _ == \"}\" and temp == \"{\":\n",
    "                pass\n",
    "            elif _ == \"]\" and temp == \"[\":\n",
    "                pass\n",
    "            else:\n",
    "                print(\"debug _ = \", _, \"temp =\", temp)\n",
    "                return False                \n",
    "        else:\n",
    "            return False\n",
    "    return True if len(queue) == 0 else False"
   ]
  },
  {
   "cell_type": "code",
   "execution_count": 25,
   "metadata": {},
   "outputs": [
    {
     "name": "stdout",
     "output_type": "stream",
     "text": [
      "() True\n"
     ]
    }
   ],
   "source": [
    "print(\"()\",IsValidParenthesis(\"()\"))"
   ]
  },
  {
   "cell_type": "code",
   "execution_count": 29,
   "metadata": {},
   "outputs": [
    {
     "name": "stdout",
     "output_type": "stream",
     "text": [
      "() True\n",
      "( False\n",
      "] False\n",
      "({[]}) True\n"
     ]
    }
   ],
   "source": [
    "for _ in [\"()\", \"(\",\"]\", \"({[]})\"]:\n",
    "    print(_,IsValidParenthesis(_))"
   ]
  },
  {
   "cell_type": "code",
   "execution_count": null,
   "metadata": {},
   "outputs": [],
   "source": []
  }
 ],
 "metadata": {
  "kernelspec": {
   "display_name": "Python 3",
   "language": "python",
   "name": "python3"
  },
  "language_info": {
   "codemirror_mode": {
    "name": "ipython",
    "version": 3
   },
   "file_extension": ".py",
   "mimetype": "text/x-python",
   "name": "python",
   "nbconvert_exporter": "python",
   "pygments_lexer": "ipython3",
   "version": "3.8.1"
  }
 },
 "nbformat": 4,
 "nbformat_minor": 4
}
