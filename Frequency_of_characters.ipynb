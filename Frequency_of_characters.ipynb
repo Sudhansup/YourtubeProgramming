{
 "cells": [
  {
   "cell_type": "code",
   "execution_count": 6,
   "metadata": {},
   "outputs": [
    {
     "name": "stdout",
     "output_type": "stream",
     "text": [
      "{'h': 1, 'e': 1, 'l': 3, 'o': 2, 'w': 1, 'r': 1, 'd': 1}\n"
     ]
    }
   ],
   "source": [
    "#Given a sample string, find the distinct characters and there frequency\n",
    "sample_input = \"helloworld\"\n",
    "data_dict = {}\n",
    "\n",
    "for  i in sample_input:\n",
    "    if i in data_dict:\n",
    "        data_dict[i] += 1\n",
    "    else:\n",
    "        data_dict[i] = 1\n",
    "        \n",
    "print(data_dict)"
   ]
  }
 ],
 "metadata": {
  "kernelspec": {
   "display_name": "Python 3",
   "language": "python",
   "name": "python3"
  },
  "language_info": {
   "codemirror_mode": {
    "name": "ipython",
    "version": 3
   },
   "file_extension": ".py",
   "mimetype": "text/x-python",
   "name": "python",
   "nbconvert_exporter": "python",
   "pygments_lexer": "ipython3",
   "version": "3.8.1"
  }
 },
 "nbformat": 4,
 "nbformat_minor": 4
}
