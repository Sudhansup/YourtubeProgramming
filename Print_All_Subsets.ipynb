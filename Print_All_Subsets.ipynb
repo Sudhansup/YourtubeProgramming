{
 "cells": [
  {
   "cell_type": "code",
   "execution_count": 31,
   "metadata": {},
   "outputs": [],
   "source": [
    "#Print  all the possible subsets of a given list.\n",
    "#Example: InputList [1,2,3]\n",
    "#Output [[], [1], [1,2], [2], [3], [1,3],[2,3], [1,2,3]]\n",
    "\n",
    "#000\n",
    "#001\n",
    "#010\n",
    "#111\n",
    "\n",
    "def GiveAllSubSets(input_data):\n",
    "    mainlist = []    \n",
    "    \n",
    "    for i in range(2**len(input_data)-1, -1,-1):\n",
    "        sublist = []\n",
    "        for j in range(len(input_data)):\n",
    "            if ((1<<j)&i == 0):\n",
    "                sublist.append(input_data[len(input_data)-j-1])\n",
    "        mainlist.append(sublist)\n",
    "        #mainlist.reverse()\n",
    "    return mainlist    "
   ]
  },
  {
   "cell_type": "code",
   "execution_count": 32,
   "metadata": {},
   "outputs": [
    {
     "data": {
      "text/plain": [
       "[[], [3], [2], [3, 2], [1], [3, 1], [2, 1], [3, 2, 1]]"
      ]
     },
     "execution_count": 32,
     "metadata": {},
     "output_type": "execute_result"
    }
   ],
   "source": [
    "GiveAllSubSets([1,2,3])"
   ]
  },
  {
   "cell_type": "code",
   "execution_count": null,
   "metadata": {},
   "outputs": [],
   "source": []
  }
 ],
 "metadata": {
  "kernelspec": {
   "display_name": "Python 3",
   "language": "python",
   "name": "python3"
  },
  "language_info": {
   "codemirror_mode": {
    "name": "ipython",
    "version": 3
   },
   "file_extension": ".py",
   "mimetype": "text/x-python",
   "name": "python",
   "nbconvert_exporter": "python",
   "pygments_lexer": "ipython3",
   "version": "3.8.1"
  }
 },
 "nbformat": 4,
 "nbformat_minor": 4
}
